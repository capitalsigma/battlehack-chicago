{
 "metadata": {
  "name": "",
  "signature": "sha256:5783f31a55fa768e0007e3055339e16f92434c8b7a2c82f8a5a06c09ceec21d7"
 },
 "nbformat": 3,
 "nbformat_minor": 0,
 "worksheets": []
}
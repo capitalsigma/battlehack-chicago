{
 "metadata": {
  "name": "",
  "signature": "sha256:d087a10bf5b1efee4c0c8fa7fb25020a8476be73c853b03abee74d7693af8455"
 },
 "nbformat": 3,
 "nbformat_minor": 0,
 "worksheets": [
  {
   "cells": [
    {
     "cell_type": "code",
     "collapsed": false,
     "input": [
      "%pylab qt"
     ],
     "language": "python",
     "metadata": {},
     "outputs": [
      {
       "output_type": "stream",
       "stream": "stdout",
       "text": [
        "Populating the interactive namespace from numpy and matplotlib\n"
       ]
      },
      {
       "output_type": "stream",
       "stream": "stderr",
       "text": [
        "WARNING: pylab import has clobbered these variables: ['gray']\n",
        "`%matplotlib` prevents importing * from pylab and numpy\n"
       ]
      }
     ],
     "prompt_number": 115
    },
    {
     "cell_type": "code",
     "collapsed": false,
     "input": [
      "import numpy as np\n",
      "import cv2"
     ],
     "language": "python",
     "metadata": {},
     "outputs": []
    },
    {
     "cell_type": "code",
     "collapsed": false,
     "input": [
      "face_cascade = cv2.CascadeClassifier('haarcascades/haarcascade_frontalface_alt_tree.xml')\n",
      "#face_cascade = cv2.CascadeClassifier('lbpcascades/lbpcascade_frontalface.xml')\n",
      "#eye_cascade = cv2.CascadeClassifier('haarcascades/haarcascade_eye.xml')"
     ],
     "language": "python",
     "metadata": {},
     "outputs": [],
     "prompt_number": 128
    },
    {
     "cell_type": "code",
     "collapsed": false,
     "input": [
      "img = cv2.imread('../models/individual/patrick/IMG_20140628_214045.jpg')\n",
      "gray = cv2.cvtColor(img, cv2.COLOR_BGR2GRAY)"
     ],
     "language": "python",
     "metadata": {},
     "outputs": [],
     "prompt_number": 194
    },
    {
     "cell_type": "code",
     "collapsed": false,
     "input": [
      "faces = face_cascade.detectMultiScale(gray)"
     ],
     "language": "python",
     "metadata": {},
     "outputs": [],
     "prompt_number": 195
    },
    {
     "cell_type": "code",
     "collapsed": false,
     "input": [
      "#imshow(gray, cmap=cm.Greys_r, interpolation='nearest')\n",
      "for x, y, w, h in faces:\n",
      "    cv2.rectangle(img, (x,y),(x+w,y+h),(255,0,0), 10)"
     ],
     "language": "python",
     "metadata": {},
     "outputs": [],
     "prompt_number": 196
    },
    {
     "cell_type": "code",
     "collapsed": false,
     "input": [
      "len(faces)"
     ],
     "language": "python",
     "metadata": {},
     "outputs": [
      {
       "metadata": {},
       "output_type": "pyout",
       "prompt_number": 197,
       "text": [
        "2"
       ]
      }
     ],
     "prompt_number": 197
    },
    {
     "cell_type": "code",
     "collapsed": false,
     "input": [
      "max(faces, key=lambda (x,y,w,h): w*h)"
     ],
     "language": "python",
     "metadata": {},
     "outputs": [
      {
       "metadata": {},
       "output_type": "pyout",
       "prompt_number": 198,
       "text": [
        "array([1902, 2172,  106,  106], dtype=int32)"
       ]
      }
     ],
     "prompt_number": 198
    },
    {
     "cell_type": "code",
     "collapsed": false,
     "input": [
      "imshow(img[:, :, [2, 1, 0]])"
     ],
     "language": "python",
     "metadata": {},
     "outputs": [
      {
       "metadata": {},
       "output_type": "pyout",
       "prompt_number": 199,
       "text": [
        "<matplotlib.image.AxesImage at 0xf496c90>"
       ]
      }
     ],
     "prompt_number": 199
    },
    {
     "cell_type": "code",
     "collapsed": false,
     "input": [
      "import glob"
     ],
     "language": "python",
     "metadata": {},
     "outputs": [],
     "prompt_number": 110
    },
    {
     "cell_type": "code",
     "collapsed": false,
     "input": [
      "ns = []\n",
      "ps = sorted(glob.glob('Pictures/Tahiya/*.jpg'))\n",
      "for i, p in enumerate(ps):\n",
      "    img = cv2.imread(p)\n",
      "    gray = cv2.cvtColor(img, cv2.COLOR_BGR2GRAY)\n",
      "    faces = face_cascade.detectMultiScale(gray)\n",
      "    ns.append(len(faces))\n",
      "    for x, y, w, h in faces:\n",
      "        cv2.rectangle(img, (x,y),(x+w,y+h),(255,0,0), 10)\n",
      "    subplot(5, 2, i+1)\n",
      "    plt.axis('off')\n",
      "    imshow(img[:, :, [2, 1, 0]])\n",
      "print ns"
     ],
     "language": "python",
     "metadata": {},
     "outputs": [
      {
       "output_type": "stream",
       "stream": "stdout",
       "text": [
        "[1, 7, 1, 3, 3, 4, 1, 7, 6, 6]\n"
       ]
      }
     ],
     "prompt_number": 129
    },
    {
     "cell_type": "code",
     "collapsed": false,
     "input": [
      "x, y, w, h"
     ],
     "language": "python",
     "metadata": {},
     "outputs": [
      {
       "metadata": {},
       "output_type": "pyout",
       "prompt_number": 130,
       "text": [
        "(306, 7, 224, 224)"
       ]
      }
     ],
     "prompt_number": 130
    },
    {
     "cell_type": "code",
     "collapsed": false,
     "input": [
      "imshow(img[y:y+h, x:x+w, [2, 1, 0]])"
     ],
     "language": "python",
     "metadata": {},
     "outputs": [
      {
       "metadata": {},
       "output_type": "pyout",
       "prompt_number": 134,
       "text": [
        "<matplotlib.image.AxesImage at 0xca21110>"
       ]
      }
     ],
     "prompt_number": 134
    },
    {
     "cell_type": "code",
     "collapsed": false,
     "input": [],
     "language": "python",
     "metadata": {},
     "outputs": []
    }
   ],
   "metadata": {}
  }
 ]
}